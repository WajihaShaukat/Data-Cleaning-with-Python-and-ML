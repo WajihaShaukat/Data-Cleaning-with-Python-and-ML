{
  "metadata": {
    "kernelspec": {
      "name": "python",
      "display_name": "Python (Pyodide)",
      "language": "python"
    },
    "language_info": {
      "codemirror_mode": {
        "name": "python",
        "version": 3
      },
      "file_extension": ".py",
      "mimetype": "text/x-python",
      "name": "python",
      "nbconvert_exporter": "python",
      "pygments_lexer": "ipython3",
      "version": "3.8"
    }
  },
  "nbformat_minor": 4,
  "nbformat": 4,
  "cells": [
    {
      "cell_type": "markdown",
      "source": "STEP 01: DATA CLEANING WITH PYTHON LIBRARIES\n(For Data Analytics)",
      "metadata": {}
    },
    {
      "cell_type": "code",
      "source": "# Car_Price\nimport pandas as pd\nimport matplotlib.pyplot as plt\n#import seaborn as sns\n\ndataset = pd.read_csv('car_price.csv')\n#to check how much data is there\ndataset.shape\n",
      "metadata": {
        "trusted": true
      },
      "outputs": [
        {
          "execution_count": 23,
          "output_type": "execute_result",
          "data": {
            "text/plain": "(5512, 10)"
          },
          "metadata": {}
        }
      ],
      "execution_count": 23
    },
    {
      "cell_type": "code",
      "source": "dataset.head(5511)",
      "metadata": {
        "trusted": true
      },
      "outputs": [
        {
          "execution_count": 24,
          "output_type": "execute_result",
          "data": {
            "text/plain": "      Unnamed: 0                                car_name car_prices_in_rupee  \\\n0              0  Jeep Compass 2.0 Longitude Option BSIV          10.03 Lakh   \n1              1            Renault Duster RXZ Turbo CVT                 NaN   \n2              2                      Toyota Camry 2.5 G          16.40 Lakh   \n3              3                       Honda Jazz VX CVT           7.77 Lakh   \n4              4        Volkswagen Polo 1.2 MPI Highline           5.15 Lakh   \n...          ...                                     ...                 ...   \n5506        5506                       BMW X5 xDrive 30d          32.90 Lakh   \n5507        5507                 BMW X1 sDrive 20d xLine          28.90 Lakh   \n5508        5508                   BMW M Series M4 Coupe          64.90 Lakh   \n5509        5509              Jaguar XF 2.2 Litre Luxury          13.75 Lakh   \n5510        5510                      BMW 7 Series 730Ld          29.90 Lakh   \n\n      kms_driven fuel_type transmission  ownership  manufacture   engine  \\\n0     86,226 kms    Diesel       Manual  1st Owner       2017.0  1956 cc   \n1     13,248 kms    Petrol    Automatic  1st Owner       2021.0  1330 cc   \n2     60,343 kms    Petrol    Automatic  1st Owner       2016.0  2494 cc   \n3     26,696 kms    Petrol    Automatic  1st Owner       2018.0      NaN   \n4     69,414 kms    Petrol       Manual  1st Owner       2016.0  1199 cc   \n...          ...       ...          ...        ...          ...      ...   \n5506  99,000 kms    Diesel    Automatic  1st Owner       2015.0  1999 cc   \n5507  45,000 kms    Diesel    Automatic  1st Owner       2018.0  2995 cc   \n5508  29,000 kms    Petrol    Automatic  2nd Owner       2015.0  1968 cc   \n5509  90,000 kms    Diesel    Automatic  2nd Owner       2013.0  2755 cc   \n5510  79,000 kms    Diesel    Automatic  3rd Owner       2015.0  2967 cc   \n\n        Seats  \n0     5 Seats  \n1     5 Seats  \n2     5 Seats  \n3     5 Seats  \n4         NaN  \n...       ...  \n5506  5 Seats  \n5507  7 Seats  \n5508  5 Seats  \n5509  5 Seats  \n5510  6 Seats  \n\n[5511 rows x 10 columns]",
            "text/html": "<div>\n<style scoped>\n    .dataframe tbody tr th:only-of-type {\n        vertical-align: middle;\n    }\n\n    .dataframe tbody tr th {\n        vertical-align: top;\n    }\n\n    .dataframe thead th {\n        text-align: right;\n    }\n</style>\n<table border=\"1\" class=\"dataframe\">\n  <thead>\n    <tr style=\"text-align: right;\">\n      <th></th>\n      <th>Unnamed: 0</th>\n      <th>car_name</th>\n      <th>car_prices_in_rupee</th>\n      <th>kms_driven</th>\n      <th>fuel_type</th>\n      <th>transmission</th>\n      <th>ownership</th>\n      <th>manufacture</th>\n      <th>engine</th>\n      <th>Seats</th>\n    </tr>\n  </thead>\n  <tbody>\n    <tr>\n      <th>0</th>\n      <td>0</td>\n      <td>Jeep Compass 2.0 Longitude Option BSIV</td>\n      <td>10.03 Lakh</td>\n      <td>86,226 kms</td>\n      <td>Diesel</td>\n      <td>Manual</td>\n      <td>1st Owner</td>\n      <td>2017.0</td>\n      <td>1956 cc</td>\n      <td>5 Seats</td>\n    </tr>\n    <tr>\n      <th>1</th>\n      <td>1</td>\n      <td>Renault Duster RXZ Turbo CVT</td>\n      <td>NaN</td>\n      <td>13,248 kms</td>\n      <td>Petrol</td>\n      <td>Automatic</td>\n      <td>1st Owner</td>\n      <td>2021.0</td>\n      <td>1330 cc</td>\n      <td>5 Seats</td>\n    </tr>\n    <tr>\n      <th>2</th>\n      <td>2</td>\n      <td>Toyota Camry 2.5 G</td>\n      <td>16.40 Lakh</td>\n      <td>60,343 kms</td>\n      <td>Petrol</td>\n      <td>Automatic</td>\n      <td>1st Owner</td>\n      <td>2016.0</td>\n      <td>2494 cc</td>\n      <td>5 Seats</td>\n    </tr>\n    <tr>\n      <th>3</th>\n      <td>3</td>\n      <td>Honda Jazz VX CVT</td>\n      <td>7.77 Lakh</td>\n      <td>26,696 kms</td>\n      <td>Petrol</td>\n      <td>Automatic</td>\n      <td>1st Owner</td>\n      <td>2018.0</td>\n      <td>NaN</td>\n      <td>5 Seats</td>\n    </tr>\n    <tr>\n      <th>4</th>\n      <td>4</td>\n      <td>Volkswagen Polo 1.2 MPI Highline</td>\n      <td>5.15 Lakh</td>\n      <td>69,414 kms</td>\n      <td>Petrol</td>\n      <td>Manual</td>\n      <td>1st Owner</td>\n      <td>2016.0</td>\n      <td>1199 cc</td>\n      <td>NaN</td>\n    </tr>\n    <tr>\n      <th>...</th>\n      <td>...</td>\n      <td>...</td>\n      <td>...</td>\n      <td>...</td>\n      <td>...</td>\n      <td>...</td>\n      <td>...</td>\n      <td>...</td>\n      <td>...</td>\n      <td>...</td>\n    </tr>\n    <tr>\n      <th>5506</th>\n      <td>5506</td>\n      <td>BMW X5 xDrive 30d</td>\n      <td>32.90 Lakh</td>\n      <td>99,000 kms</td>\n      <td>Diesel</td>\n      <td>Automatic</td>\n      <td>1st Owner</td>\n      <td>2015.0</td>\n      <td>1999 cc</td>\n      <td>5 Seats</td>\n    </tr>\n    <tr>\n      <th>5507</th>\n      <td>5507</td>\n      <td>BMW X1 sDrive 20d xLine</td>\n      <td>28.90 Lakh</td>\n      <td>45,000 kms</td>\n      <td>Diesel</td>\n      <td>Automatic</td>\n      <td>1st Owner</td>\n      <td>2018.0</td>\n      <td>2995 cc</td>\n      <td>7 Seats</td>\n    </tr>\n    <tr>\n      <th>5508</th>\n      <td>5508</td>\n      <td>BMW M Series M4 Coupe</td>\n      <td>64.90 Lakh</td>\n      <td>29,000 kms</td>\n      <td>Petrol</td>\n      <td>Automatic</td>\n      <td>2nd Owner</td>\n      <td>2015.0</td>\n      <td>1968 cc</td>\n      <td>5 Seats</td>\n    </tr>\n    <tr>\n      <th>5509</th>\n      <td>5509</td>\n      <td>Jaguar XF 2.2 Litre Luxury</td>\n      <td>13.75 Lakh</td>\n      <td>90,000 kms</td>\n      <td>Diesel</td>\n      <td>Automatic</td>\n      <td>2nd Owner</td>\n      <td>2013.0</td>\n      <td>2755 cc</td>\n      <td>5 Seats</td>\n    </tr>\n    <tr>\n      <th>5510</th>\n      <td>5510</td>\n      <td>BMW 7 Series 730Ld</td>\n      <td>29.90 Lakh</td>\n      <td>79,000 kms</td>\n      <td>Diesel</td>\n      <td>Automatic</td>\n      <td>3rd Owner</td>\n      <td>2015.0</td>\n      <td>2967 cc</td>\n      <td>6 Seats</td>\n    </tr>\n  </tbody>\n</table>\n<p>5511 rows × 10 columns</p>\n</div>"
          },
          "metadata": {}
        }
      ],
      "execution_count": 24
    },
    {
      "cell_type": "code",
      "source": "#to check data type\ndataset.info()",
      "metadata": {
        "trusted": true
      },
      "outputs": [
        {
          "name": "stdout",
          "text": "<class 'pandas.core.frame.DataFrame'>\nRangeIndex: 5512 entries, 0 to 5511\nData columns (total 10 columns):\n #   Column               Non-Null Count  Dtype  \n---  ------               --------------  -----  \n 0   Unnamed: 0           5512 non-null   int64  \n 1   car_name             5512 non-null   object \n 2   car_prices_in_rupee  5505 non-null   object \n 3   kms_driven           5507 non-null   object \n 4   fuel_type            5512 non-null   object \n 5   transmission         5508 non-null   object \n 6   ownership            5499 non-null   object \n 7   manufacture          5511 non-null   float64\n 8   engine               5504 non-null   object \n 9   Seats                5501 non-null   object \ndtypes: float64(1), int64(1), object(8)\nmemory usage: 258.4+ KB\n",
          "output_type": "stream"
        }
      ],
      "execution_count": 25
    },
    {
      "cell_type": "code",
      "source": "#to check missing data\ndataset.isnull()\n",
      "metadata": {
        "trusted": true
      },
      "outputs": [
        {
          "execution_count": 26,
          "output_type": "execute_result",
          "data": {
            "text/plain": "      Unnamed: 0  car_name  car_prices_in_rupee  kms_driven  fuel_type  \\\n0          False     False                False       False      False   \n1          False     False                 True       False      False   \n2          False     False                False       False      False   \n3          False     False                False       False      False   \n4          False     False                False       False      False   \n...          ...       ...                  ...         ...        ...   \n5507       False     False                False       False      False   \n5508       False     False                False       False      False   \n5509       False     False                False       False      False   \n5510       False     False                False       False      False   \n5511       False     False                False       False      False   \n\n      transmission  ownership  manufacture  engine  Seats  \n0            False      False        False   False  False  \n1            False      False        False   False  False  \n2            False      False        False   False  False  \n3            False      False        False    True  False  \n4            False      False        False   False   True  \n...            ...        ...          ...     ...    ...  \n5507         False      False        False   False  False  \n5508         False      False        False   False  False  \n5509         False      False        False   False  False  \n5510         False      False        False   False  False  \n5511         False      False        False   False  False  \n\n[5512 rows x 10 columns]",
            "text/html": "<div>\n<style scoped>\n    .dataframe tbody tr th:only-of-type {\n        vertical-align: middle;\n    }\n\n    .dataframe tbody tr th {\n        vertical-align: top;\n    }\n\n    .dataframe thead th {\n        text-align: right;\n    }\n</style>\n<table border=\"1\" class=\"dataframe\">\n  <thead>\n    <tr style=\"text-align: right;\">\n      <th></th>\n      <th>Unnamed: 0</th>\n      <th>car_name</th>\n      <th>car_prices_in_rupee</th>\n      <th>kms_driven</th>\n      <th>fuel_type</th>\n      <th>transmission</th>\n      <th>ownership</th>\n      <th>manufacture</th>\n      <th>engine</th>\n      <th>Seats</th>\n    </tr>\n  </thead>\n  <tbody>\n    <tr>\n      <th>0</th>\n      <td>False</td>\n      <td>False</td>\n      <td>False</td>\n      <td>False</td>\n      <td>False</td>\n      <td>False</td>\n      <td>False</td>\n      <td>False</td>\n      <td>False</td>\n      <td>False</td>\n    </tr>\n    <tr>\n      <th>1</th>\n      <td>False</td>\n      <td>False</td>\n      <td>True</td>\n      <td>False</td>\n      <td>False</td>\n      <td>False</td>\n      <td>False</td>\n      <td>False</td>\n      <td>False</td>\n      <td>False</td>\n    </tr>\n    <tr>\n      <th>2</th>\n      <td>False</td>\n      <td>False</td>\n      <td>False</td>\n      <td>False</td>\n      <td>False</td>\n      <td>False</td>\n      <td>False</td>\n      <td>False</td>\n      <td>False</td>\n      <td>False</td>\n    </tr>\n    <tr>\n      <th>3</th>\n      <td>False</td>\n      <td>False</td>\n      <td>False</td>\n      <td>False</td>\n      <td>False</td>\n      <td>False</td>\n      <td>False</td>\n      <td>False</td>\n      <td>True</td>\n      <td>False</td>\n    </tr>\n    <tr>\n      <th>4</th>\n      <td>False</td>\n      <td>False</td>\n      <td>False</td>\n      <td>False</td>\n      <td>False</td>\n      <td>False</td>\n      <td>False</td>\n      <td>False</td>\n      <td>False</td>\n      <td>True</td>\n    </tr>\n    <tr>\n      <th>...</th>\n      <td>...</td>\n      <td>...</td>\n      <td>...</td>\n      <td>...</td>\n      <td>...</td>\n      <td>...</td>\n      <td>...</td>\n      <td>...</td>\n      <td>...</td>\n      <td>...</td>\n    </tr>\n    <tr>\n      <th>5507</th>\n      <td>False</td>\n      <td>False</td>\n      <td>False</td>\n      <td>False</td>\n      <td>False</td>\n      <td>False</td>\n      <td>False</td>\n      <td>False</td>\n      <td>False</td>\n      <td>False</td>\n    </tr>\n    <tr>\n      <th>5508</th>\n      <td>False</td>\n      <td>False</td>\n      <td>False</td>\n      <td>False</td>\n      <td>False</td>\n      <td>False</td>\n      <td>False</td>\n      <td>False</td>\n      <td>False</td>\n      <td>False</td>\n    </tr>\n    <tr>\n      <th>5509</th>\n      <td>False</td>\n      <td>False</td>\n      <td>False</td>\n      <td>False</td>\n      <td>False</td>\n      <td>False</td>\n      <td>False</td>\n      <td>False</td>\n      <td>False</td>\n      <td>False</td>\n    </tr>\n    <tr>\n      <th>5510</th>\n      <td>False</td>\n      <td>False</td>\n      <td>False</td>\n      <td>False</td>\n      <td>False</td>\n      <td>False</td>\n      <td>False</td>\n      <td>False</td>\n      <td>False</td>\n      <td>False</td>\n    </tr>\n    <tr>\n      <th>5511</th>\n      <td>False</td>\n      <td>False</td>\n      <td>False</td>\n      <td>False</td>\n      <td>False</td>\n      <td>False</td>\n      <td>False</td>\n      <td>False</td>\n      <td>False</td>\n      <td>False</td>\n    </tr>\n  </tbody>\n</table>\n<p>5512 rows × 10 columns</p>\n</div>"
          },
          "metadata": {}
        }
      ],
      "execution_count": 26
    },
    {
      "cell_type": "code",
      "source": "dataset.isnull().sum()  ",
      "metadata": {
        "trusted": true
      },
      "outputs": [
        {
          "execution_count": 27,
          "output_type": "execute_result",
          "data": {
            "text/plain": "Unnamed: 0              0\ncar_name                0\ncar_prices_in_rupee     7\nkms_driven              5\nfuel_type               0\ntransmission            4\nownership              13\nmanufacture             1\nengine                  8\nSeats                  11\ndtype: int64"
          },
          "metadata": {}
        }
      ],
      "execution_count": 27
    },
    {
      "cell_type": "code",
      "source": "#to get % of how much  data is missing\n(dataset.isnull().sum()/dataset.shape[0])*100  # shape[0] === 5512",
      "metadata": {
        "trusted": true
      },
      "outputs": [
        {
          "execution_count": 28,
          "output_type": "execute_result",
          "data": {
            "text/plain": "Unnamed: 0             0.000000\ncar_name               0.000000\ncar_prices_in_rupee    0.126996\nkms_driven             0.090711\nfuel_type              0.000000\ntransmission           0.072569\nownership              0.235849\nmanufacture            0.018142\nengine                 0.145138\nSeats                  0.199565\ndtype: float64"
          },
          "metadata": {}
        }
      ],
      "execution_count": 28
    },
    {
      "cell_type": "code",
      "source": "#now we remove this data\ndataset.dropna( inplace=True)  #if we want to fill data, we'll write 'fillna'",
      "metadata": {
        "trusted": true
      },
      "outputs": [],
      "execution_count": 29
    },
    {
      "cell_type": "code",
      "source": "#to recheck if data is removed or not\n(dataset.isnull().sum()/dataset.shape[0])*100  # shape[0] === 5512",
      "metadata": {
        "trusted": true
      },
      "outputs": [
        {
          "execution_count": 30,
          "output_type": "execute_result",
          "data": {
            "text/plain": "Unnamed: 0             0.0\ncar_name               0.0\ncar_prices_in_rupee    0.0\nkms_driven             0.0\nfuel_type              0.0\ntransmission           0.0\nownership              0.0\nmanufacture            0.0\nengine                 0.0\nSeats                  0.0\ndtype: float64"
          },
          "metadata": {}
        }
      ],
      "execution_count": 30
    },
    {
      "cell_type": "markdown",
      "source": "Now, column wise data cleaning ",
      "metadata": {}
    },
    {
      "cell_type": "code",
      "source": "#car_name\n#splitting a coulmn name car_name into two columns i.e., 'company name & car name'\ndef company_name(x):\n    return x[:x.index(\" \")]\ndataset[\"company_name\"] = dataset[\"car_name\"].apply(company_name)\ndef car_name(x):\n    return x[x.index(\" \")+1:]\n\ndataset[\"car_name\"] = dataset[\"car_name\"].apply(car_name)\n\ndataset.head(3)",
      "metadata": {
        "trusted": true
      },
      "outputs": [
        {
          "execution_count": 37,
          "output_type": "execute_result",
          "data": {
            "text/plain": "   Unnamed: 0                   car_name car_prices_in_rupee  kms_driven  \\\n0           0  2.0 Longitude Option BSIV          10.03 Lakh  86,226 kms   \n2           2                      2.5 G          16.40 Lakh  60,343 kms   \n7           7                  VX Diesel          11.60 Lakh  14,470 kms   \n\n  fuel_type transmission  ownership  manufacture   engine    Seats  \\\n0    Diesel       Manual  1st Owner       2017.0  1956 cc  5 Seats   \n2    Petrol    Automatic  1st Owner       2016.0  2494 cc  5 Seats   \n7    Diesel       Manual  1st Owner       2021.0  1498 cc  5 Seats   \n\n  company_name  \n0      Compass  \n2        Camry  \n7         WR-V  ",
            "text/html": "<div>\n<style scoped>\n    .dataframe tbody tr th:only-of-type {\n        vertical-align: middle;\n    }\n\n    .dataframe tbody tr th {\n        vertical-align: top;\n    }\n\n    .dataframe thead th {\n        text-align: right;\n    }\n</style>\n<table border=\"1\" class=\"dataframe\">\n  <thead>\n    <tr style=\"text-align: right;\">\n      <th></th>\n      <th>Unnamed: 0</th>\n      <th>car_name</th>\n      <th>car_prices_in_rupee</th>\n      <th>kms_driven</th>\n      <th>fuel_type</th>\n      <th>transmission</th>\n      <th>ownership</th>\n      <th>manufacture</th>\n      <th>engine</th>\n      <th>Seats</th>\n      <th>company_name</th>\n    </tr>\n  </thead>\n  <tbody>\n    <tr>\n      <th>0</th>\n      <td>0</td>\n      <td>2.0 Longitude Option BSIV</td>\n      <td>10.03 Lakh</td>\n      <td>86,226 kms</td>\n      <td>Diesel</td>\n      <td>Manual</td>\n      <td>1st Owner</td>\n      <td>2017.0</td>\n      <td>1956 cc</td>\n      <td>5 Seats</td>\n      <td>Compass</td>\n    </tr>\n    <tr>\n      <th>2</th>\n      <td>2</td>\n      <td>2.5 G</td>\n      <td>16.40 Lakh</td>\n      <td>60,343 kms</td>\n      <td>Petrol</td>\n      <td>Automatic</td>\n      <td>1st Owner</td>\n      <td>2016.0</td>\n      <td>2494 cc</td>\n      <td>5 Seats</td>\n      <td>Camry</td>\n    </tr>\n    <tr>\n      <th>7</th>\n      <td>7</td>\n      <td>VX Diesel</td>\n      <td>11.60 Lakh</td>\n      <td>14,470 kms</td>\n      <td>Diesel</td>\n      <td>Manual</td>\n      <td>1st Owner</td>\n      <td>2021.0</td>\n      <td>1498 cc</td>\n      <td>5 Seats</td>\n      <td>WR-V</td>\n    </tr>\n  </tbody>\n</table>\n</div>"
          },
          "metadata": {}
        }
      ],
      "execution_count": 37
    },
    {
      "cell_type": "code",
      "source": "#car_prices_in_rupees\n#to remove comma\ndataset[\"car_prices_in_rupee\"].str.replace(\",\",\"\")",
      "metadata": {
        "trusted": true
      },
      "outputs": [
        {
          "execution_count": 39,
          "output_type": "execute_result",
          "data": {
            "text/plain": "0       10.03 Lakh\n2       16.40 Lakh\n7       11.60 Lakh\n8        6.99 Lakh\n11       5.43 Lakh\n           ...    \n5507    28.90 Lakh\n5508    64.90 Lakh\n5509    13.75 Lakh\n5510    29.90 Lakh\n5511    31.90 Lakh\nName: car_prices_in_rupee, Length: 5471, dtype: object"
          },
          "metadata": {}
        }
      ],
      "execution_count": 39
    },
    {
      "cell_type": "code",
      "source": "#now converting lakhs and crore into thousands\ndef car_rupee(x):\n    p=x.split(\" \")\n    try:\n        if p[1] == \"Lakh\":\n            return str(round(float(p[0])*100000,1))\n        elif p[1] ==\"Crore\":\n            return str(roundfloat(p[0])*10000000,1)\n    except:\n        return x\n\ndataset[\"car_prices_in_rupee\"] = dataset [\"car_prices_in_rupee\"].apply(car_rupee)\n#dataset[\"car_prices_in_rupee\"] = dataset[\"car_prices_in_rupee\"].astype(\"float\") #changing data type\ndataset.head(3)",
      "metadata": {
        "trusted": true
      },
      "outputs": [
        {
          "execution_count": 55,
          "output_type": "execute_result",
          "data": {
            "text/plain": "   Unnamed: 0                   car_name car_prices_in_rupee  kms_driven  \\\n0           0  2.0 Longitude Option BSIV           1003000.0  86,226 kms   \n2           2                      2.5 G           1640000.0  60,343 kms   \n7           7                  VX Diesel           1160000.0  14,470 kms   \n\n  fuel_type transmission  ownership  manufacture   engine    Seats  \\\n0    Diesel       Manual  1st Owner       2017.0  1956 cc  5 Seats   \n2    Petrol    Automatic  1st Owner       2016.0  2494 cc  5 Seats   \n7    Diesel       Manual  1st Owner       2021.0  1498 cc  5 Seats   \n\n  company_name  \n0      Compass  \n2        Camry  \n7         WR-V  ",
            "text/html": "<div>\n<style scoped>\n    .dataframe tbody tr th:only-of-type {\n        vertical-align: middle;\n    }\n\n    .dataframe tbody tr th {\n        vertical-align: top;\n    }\n\n    .dataframe thead th {\n        text-align: right;\n    }\n</style>\n<table border=\"1\" class=\"dataframe\">\n  <thead>\n    <tr style=\"text-align: right;\">\n      <th></th>\n      <th>Unnamed: 0</th>\n      <th>car_name</th>\n      <th>car_prices_in_rupee</th>\n      <th>kms_driven</th>\n      <th>fuel_type</th>\n      <th>transmission</th>\n      <th>ownership</th>\n      <th>manufacture</th>\n      <th>engine</th>\n      <th>Seats</th>\n      <th>company_name</th>\n    </tr>\n  </thead>\n  <tbody>\n    <tr>\n      <th>0</th>\n      <td>0</td>\n      <td>2.0 Longitude Option BSIV</td>\n      <td>1003000.0</td>\n      <td>86,226 kms</td>\n      <td>Diesel</td>\n      <td>Manual</td>\n      <td>1st Owner</td>\n      <td>2017.0</td>\n      <td>1956 cc</td>\n      <td>5 Seats</td>\n      <td>Compass</td>\n    </tr>\n    <tr>\n      <th>2</th>\n      <td>2</td>\n      <td>2.5 G</td>\n      <td>1640000.0</td>\n      <td>60,343 kms</td>\n      <td>Petrol</td>\n      <td>Automatic</td>\n      <td>1st Owner</td>\n      <td>2016.0</td>\n      <td>2494 cc</td>\n      <td>5 Seats</td>\n      <td>Camry</td>\n    </tr>\n    <tr>\n      <th>7</th>\n      <td>7</td>\n      <td>VX Diesel</td>\n      <td>1160000.0</td>\n      <td>14,470 kms</td>\n      <td>Diesel</td>\n      <td>Manual</td>\n      <td>1st Owner</td>\n      <td>2021.0</td>\n      <td>1498 cc</td>\n      <td>5 Seats</td>\n      <td>WR-V</td>\n    </tr>\n  </tbody>\n</table>\n</div>"
          },
          "metadata": {}
        }
      ],
      "execution_count": 55
    },
    {
      "cell_type": "code",
      "source": "#dataset['car_prices_in_rupee']=dataset['car_prices_in_rupee'].astype(\"float64\")",
      "metadata": {
        "trusted": true
      },
      "outputs": [],
      "execution_count": 70
    },
    {
      "cell_type": "code",
      "source": "#kms_driven\n#removing comma and kms\n\n#dataset['kms_driven'] = dataset['kms_driven'].str.replace(\",\",\"\")  -> to remove commas\n#dataset['kms_driven'] = dataset['kms_driven'].str.replace(\"kms\",\"\") -> to remove kms\ndataset['kms_driven'] = dataset['kms_driven'].astype(\"int64\")\ndataset.head(3)",
      "metadata": {
        "trusted": true
      },
      "outputs": [
        {
          "execution_count": 66,
          "output_type": "execute_result",
          "data": {
            "text/plain": "   Unnamed: 0                   car_name car_prices_in_rupee  kms_driven  \\\n0           0  2.0 Longitude Option BSIV           1003000.0       86226   \n2           2                      2.5 G           1640000.0       60343   \n7           7                  VX Diesel           1160000.0       14470   \n\n  fuel_type transmission  ownership  manufacture   engine    Seats  \\\n0    Diesel       Manual  1st Owner       2017.0  1956 cc  5 Seats   \n2    Petrol    Automatic  1st Owner       2016.0  2494 cc  5 Seats   \n7    Diesel       Manual  1st Owner       2021.0  1498 cc  5 Seats   \n\n  company_name  \n0      Compass  \n2        Camry  \n7         WR-V  ",
            "text/html": "<div>\n<style scoped>\n    .dataframe tbody tr th:only-of-type {\n        vertical-align: middle;\n    }\n\n    .dataframe tbody tr th {\n        vertical-align: top;\n    }\n\n    .dataframe thead th {\n        text-align: right;\n    }\n</style>\n<table border=\"1\" class=\"dataframe\">\n  <thead>\n    <tr style=\"text-align: right;\">\n      <th></th>\n      <th>Unnamed: 0</th>\n      <th>car_name</th>\n      <th>car_prices_in_rupee</th>\n      <th>kms_driven</th>\n      <th>fuel_type</th>\n      <th>transmission</th>\n      <th>ownership</th>\n      <th>manufacture</th>\n      <th>engine</th>\n      <th>Seats</th>\n      <th>company_name</th>\n    </tr>\n  </thead>\n  <tbody>\n    <tr>\n      <th>0</th>\n      <td>0</td>\n      <td>2.0 Longitude Option BSIV</td>\n      <td>1003000.0</td>\n      <td>86226</td>\n      <td>Diesel</td>\n      <td>Manual</td>\n      <td>1st Owner</td>\n      <td>2017.0</td>\n      <td>1956 cc</td>\n      <td>5 Seats</td>\n      <td>Compass</td>\n    </tr>\n    <tr>\n      <th>2</th>\n      <td>2</td>\n      <td>2.5 G</td>\n      <td>1640000.0</td>\n      <td>60343</td>\n      <td>Petrol</td>\n      <td>Automatic</td>\n      <td>1st Owner</td>\n      <td>2016.0</td>\n      <td>2494 cc</td>\n      <td>5 Seats</td>\n      <td>Camry</td>\n    </tr>\n    <tr>\n      <th>7</th>\n      <td>7</td>\n      <td>VX Diesel</td>\n      <td>1160000.0</td>\n      <td>14470</td>\n      <td>Diesel</td>\n      <td>Manual</td>\n      <td>1st Owner</td>\n      <td>2021.0</td>\n      <td>1498 cc</td>\n      <td>5 Seats</td>\n      <td>WR-V</td>\n    </tr>\n  </tbody>\n</table>\n</div>"
          },
          "metadata": {}
        }
      ],
      "execution_count": 66
    },
    {
      "cell_type": "code",
      "source": "dataset.info()",
      "metadata": {
        "trusted": true
      },
      "outputs": [
        {
          "name": "stdout",
          "text": "<class 'pandas.core.frame.DataFrame'>\nInt64Index: 5471 entries, 0 to 5511\nData columns (total 11 columns):\n #   Column               Non-Null Count  Dtype  \n---  ------               --------------  -----  \n 0   Unnamed: 0           5471 non-null   int64  \n 1   car_name             5471 non-null   object \n 2   car_prices_in_rupee  5471 non-null   object \n 3   kms_driven           5471 non-null   int64  \n 4   fuel_type            5471 non-null   object \n 5   transmission         5471 non-null   object \n 6   ownership            5471 non-null   object \n 7   manufacture          5471 non-null   float64\n 8   engine               5471 non-null   object \n 9   Seats                5471 non-null   object \n 10  company_name         5471 non-null   object \ndtypes: float64(1), int64(2), object(8)\nmemory usage: 341.9+ KB\n",
          "output_type": "stream"
        }
      ],
      "execution_count": 67
    },
    {
      "cell_type": "code",
      "source": "#engine\ndataset['engine'] = dataset['engine'].str.replace(\"cc\",\"\") \ndataset['engine'] = dataset['engine'].astype(\"int64\")\ndataset.head(3)",
      "metadata": {
        "trusted": true
      },
      "outputs": [
        {
          "execution_count": 72,
          "output_type": "execute_result",
          "data": {
            "text/plain": "   Unnamed: 0                   car_name car_prices_in_rupee  kms_driven  \\\n0           0  2.0 Longitude Option BSIV           1003000.0       86226   \n2           2                      2.5 G           1640000.0       60343   \n7           7                  VX Diesel           1160000.0       14470   \n\n  fuel_type transmission  ownership  manufacture  engine    Seats company_name  \n0    Diesel       Manual  1st Owner       2017.0    1956  5 Seats      Compass  \n2    Petrol    Automatic  1st Owner       2016.0    2494  5 Seats        Camry  \n7    Diesel       Manual  1st Owner       2021.0    1498  5 Seats         WR-V  ",
            "text/html": "<div>\n<style scoped>\n    .dataframe tbody tr th:only-of-type {\n        vertical-align: middle;\n    }\n\n    .dataframe tbody tr th {\n        vertical-align: top;\n    }\n\n    .dataframe thead th {\n        text-align: right;\n    }\n</style>\n<table border=\"1\" class=\"dataframe\">\n  <thead>\n    <tr style=\"text-align: right;\">\n      <th></th>\n      <th>Unnamed: 0</th>\n      <th>car_name</th>\n      <th>car_prices_in_rupee</th>\n      <th>kms_driven</th>\n      <th>fuel_type</th>\n      <th>transmission</th>\n      <th>ownership</th>\n      <th>manufacture</th>\n      <th>engine</th>\n      <th>Seats</th>\n      <th>company_name</th>\n    </tr>\n  </thead>\n  <tbody>\n    <tr>\n      <th>0</th>\n      <td>0</td>\n      <td>2.0 Longitude Option BSIV</td>\n      <td>1003000.0</td>\n      <td>86226</td>\n      <td>Diesel</td>\n      <td>Manual</td>\n      <td>1st Owner</td>\n      <td>2017.0</td>\n      <td>1956</td>\n      <td>5 Seats</td>\n      <td>Compass</td>\n    </tr>\n    <tr>\n      <th>2</th>\n      <td>2</td>\n      <td>2.5 G</td>\n      <td>1640000.0</td>\n      <td>60343</td>\n      <td>Petrol</td>\n      <td>Automatic</td>\n      <td>1st Owner</td>\n      <td>2016.0</td>\n      <td>2494</td>\n      <td>5 Seats</td>\n      <td>Camry</td>\n    </tr>\n    <tr>\n      <th>7</th>\n      <td>7</td>\n      <td>VX Diesel</td>\n      <td>1160000.0</td>\n      <td>14470</td>\n      <td>Diesel</td>\n      <td>Manual</td>\n      <td>1st Owner</td>\n      <td>2021.0</td>\n      <td>1498</td>\n      <td>5 Seats</td>\n      <td>WR-V</td>\n    </tr>\n  </tbody>\n</table>\n</div>"
          },
          "metadata": {}
        }
      ],
      "execution_count": 72
    },
    {
      "cell_type": "code",
      "source": "#seats\ndataset['Seats'] = dataset['Seats'].str.replace(\"Seats\",\"\") \ndataset['Seats'] = dataset['Seats'].astype(\"int64\")\ndataset.head(3)",
      "metadata": {
        "trusted": true
      },
      "outputs": [
        {
          "execution_count": 76,
          "output_type": "execute_result",
          "data": {
            "text/plain": "   Unnamed: 0                   car_name car_prices_in_rupee  kms_driven  \\\n0           0  2.0 Longitude Option BSIV           1003000.0       86226   \n2           2                      2.5 G           1640000.0       60343   \n7           7                  VX Diesel           1160000.0       14470   \n\n  fuel_type transmission  ownership  manufacture  engine  Seats company_name  \\\n0    Diesel       Manual  1st Owner       2017.0    1956      5      Compass   \n2    Petrol    Automatic  1st Owner       2016.0    2494      5        Camry   \n7    Diesel       Manual  1st Owner       2021.0    1498      5         WR-V   \n\n  seat  \n0   5   \n2   5   \n7   5   ",
            "text/html": "<div>\n<style scoped>\n    .dataframe tbody tr th:only-of-type {\n        vertical-align: middle;\n    }\n\n    .dataframe tbody tr th {\n        vertical-align: top;\n    }\n\n    .dataframe thead th {\n        text-align: right;\n    }\n</style>\n<table border=\"1\" class=\"dataframe\">\n  <thead>\n    <tr style=\"text-align: right;\">\n      <th></th>\n      <th>Unnamed: 0</th>\n      <th>car_name</th>\n      <th>car_prices_in_rupee</th>\n      <th>kms_driven</th>\n      <th>fuel_type</th>\n      <th>transmission</th>\n      <th>ownership</th>\n      <th>manufacture</th>\n      <th>engine</th>\n      <th>Seats</th>\n      <th>company_name</th>\n      <th>seat</th>\n    </tr>\n  </thead>\n  <tbody>\n    <tr>\n      <th>0</th>\n      <td>0</td>\n      <td>2.0 Longitude Option BSIV</td>\n      <td>1003000.0</td>\n      <td>86226</td>\n      <td>Diesel</td>\n      <td>Manual</td>\n      <td>1st Owner</td>\n      <td>2017.0</td>\n      <td>1956</td>\n      <td>5</td>\n      <td>Compass</td>\n      <td>5</td>\n    </tr>\n    <tr>\n      <th>2</th>\n      <td>2</td>\n      <td>2.5 G</td>\n      <td>1640000.0</td>\n      <td>60343</td>\n      <td>Petrol</td>\n      <td>Automatic</td>\n      <td>1st Owner</td>\n      <td>2016.0</td>\n      <td>2494</td>\n      <td>5</td>\n      <td>Camry</td>\n      <td>5</td>\n    </tr>\n    <tr>\n      <th>7</th>\n      <td>7</td>\n      <td>VX Diesel</td>\n      <td>1160000.0</td>\n      <td>14470</td>\n      <td>Diesel</td>\n      <td>Manual</td>\n      <td>1st Owner</td>\n      <td>2021.0</td>\n      <td>1498</td>\n      <td>5</td>\n      <td>WR-V</td>\n      <td>5</td>\n    </tr>\n  </tbody>\n</table>\n</div>"
          },
          "metadata": {}
        }
      ],
      "execution_count": 76
    },
    {
      "cell_type": "code",
      "source": "#manufacture\ndataset['manufacture']=pd.to_datetime(dataset['manufacture']) # to format date\ndataset['manufacture'] = dataset['manufacture'].astype(\"int64\")\ndataset.head(3)",
      "metadata": {
        "trusted": true
      },
      "outputs": [
        {
          "execution_count": 77,
          "output_type": "execute_result",
          "data": {
            "text/plain": "   Unnamed: 0                   car_name car_prices_in_rupee  kms_driven  \\\n0           0  2.0 Longitude Option BSIV           1003000.0       86226   \n2           2                      2.5 G           1640000.0       60343   \n7           7                  VX Diesel           1160000.0       14470   \n\n  fuel_type transmission  ownership  manufacture  engine  Seats company_name  \\\n0    Diesel       Manual  1st Owner         2017    1956      5      Compass   \n2    Petrol    Automatic  1st Owner         2016    2494      5        Camry   \n7    Diesel       Manual  1st Owner         2021    1498      5         WR-V   \n\n  seat  \n0   5   \n2   5   \n7   5   ",
            "text/html": "<div>\n<style scoped>\n    .dataframe tbody tr th:only-of-type {\n        vertical-align: middle;\n    }\n\n    .dataframe tbody tr th {\n        vertical-align: top;\n    }\n\n    .dataframe thead th {\n        text-align: right;\n    }\n</style>\n<table border=\"1\" class=\"dataframe\">\n  <thead>\n    <tr style=\"text-align: right;\">\n      <th></th>\n      <th>Unnamed: 0</th>\n      <th>car_name</th>\n      <th>car_prices_in_rupee</th>\n      <th>kms_driven</th>\n      <th>fuel_type</th>\n      <th>transmission</th>\n      <th>ownership</th>\n      <th>manufacture</th>\n      <th>engine</th>\n      <th>Seats</th>\n      <th>company_name</th>\n      <th>seat</th>\n    </tr>\n  </thead>\n  <tbody>\n    <tr>\n      <th>0</th>\n      <td>0</td>\n      <td>2.0 Longitude Option BSIV</td>\n      <td>1003000.0</td>\n      <td>86226</td>\n      <td>Diesel</td>\n      <td>Manual</td>\n      <td>1st Owner</td>\n      <td>2017</td>\n      <td>1956</td>\n      <td>5</td>\n      <td>Compass</td>\n      <td>5</td>\n    </tr>\n    <tr>\n      <th>2</th>\n      <td>2</td>\n      <td>2.5 G</td>\n      <td>1640000.0</td>\n      <td>60343</td>\n      <td>Petrol</td>\n      <td>Automatic</td>\n      <td>1st Owner</td>\n      <td>2016</td>\n      <td>2494</td>\n      <td>5</td>\n      <td>Camry</td>\n      <td>5</td>\n    </tr>\n    <tr>\n      <th>7</th>\n      <td>7</td>\n      <td>VX Diesel</td>\n      <td>1160000.0</td>\n      <td>14470</td>\n      <td>Diesel</td>\n      <td>Manual</td>\n      <td>1st Owner</td>\n      <td>2021</td>\n      <td>1498</td>\n      <td>5</td>\n      <td>WR-V</td>\n      <td>5</td>\n    </tr>\n  </tbody>\n</table>\n</div>"
          },
          "metadata": {}
        }
      ],
      "execution_count": 77
    },
    {
      "cell_type": "code",
      "source": "",
      "metadata": {
        "trusted": true
      },
      "outputs": [],
      "execution_count": null
    },
    {
      "cell_type": "markdown",
      "source": "STEP 02: DATA CLEANING WITH ML LIBRARIES (FOR DATA SCIENCE)",
      "metadata": {}
    },
    {
      "cell_type": "code",
      "source": "from sklearn.preprocessing import LabelEncoder, StandardScaler",
      "metadata": {
        "trusted": true
      },
      "outputs": [],
      "execution_count": 84
    },
    {
      "cell_type": "code",
      "source": "#car_name\ncar_name_en = LabelEncoder()\ndataset['car_name_ml'] = car_name_en.fit_transform(dataset['car_name'])\ndataset.head(3)",
      "metadata": {
        "trusted": true
      },
      "outputs": [
        {
          "execution_count": 88,
          "output_type": "execute_result",
          "data": {
            "text/plain": "   Unnamed: 0                   car_name car_prices_in_rupee  kms_driven  \\\n0           0  2.0 Longitude Option BSIV           1003000.0       86226   \n2           2                      2.5 G           1640000.0       60343   \n7           7                  VX Diesel           1160000.0       14470   \n\n  fuel_type transmission  ownership  manufacture  engine  Seats company_name  \\\n0    Diesel       Manual  1st Owner         2017    1956      5      Compass   \n2    Petrol    Automatic  1st Owner         2016    2494      5        Camry   \n7    Diesel       Manual  1st Owner         2021    1498      5         WR-V   \n\n  seat  car_name_ml  \n0   5           349  \n2   5           388  \n7   5          1473  ",
            "text/html": "<div>\n<style scoped>\n    .dataframe tbody tr th:only-of-type {\n        vertical-align: middle;\n    }\n\n    .dataframe tbody tr th {\n        vertical-align: top;\n    }\n\n    .dataframe thead th {\n        text-align: right;\n    }\n</style>\n<table border=\"1\" class=\"dataframe\">\n  <thead>\n    <tr style=\"text-align: right;\">\n      <th></th>\n      <th>Unnamed: 0</th>\n      <th>car_name</th>\n      <th>car_prices_in_rupee</th>\n      <th>kms_driven</th>\n      <th>fuel_type</th>\n      <th>transmission</th>\n      <th>ownership</th>\n      <th>manufacture</th>\n      <th>engine</th>\n      <th>Seats</th>\n      <th>company_name</th>\n      <th>seat</th>\n      <th>car_name_ml</th>\n    </tr>\n  </thead>\n  <tbody>\n    <tr>\n      <th>0</th>\n      <td>0</td>\n      <td>2.0 Longitude Option BSIV</td>\n      <td>1003000.0</td>\n      <td>86226</td>\n      <td>Diesel</td>\n      <td>Manual</td>\n      <td>1st Owner</td>\n      <td>2017</td>\n      <td>1956</td>\n      <td>5</td>\n      <td>Compass</td>\n      <td>5</td>\n      <td>349</td>\n    </tr>\n    <tr>\n      <th>2</th>\n      <td>2</td>\n      <td>2.5 G</td>\n      <td>1640000.0</td>\n      <td>60343</td>\n      <td>Petrol</td>\n      <td>Automatic</td>\n      <td>1st Owner</td>\n      <td>2016</td>\n      <td>2494</td>\n      <td>5</td>\n      <td>Camry</td>\n      <td>5</td>\n      <td>388</td>\n    </tr>\n    <tr>\n      <th>7</th>\n      <td>7</td>\n      <td>VX Diesel</td>\n      <td>1160000.0</td>\n      <td>14470</td>\n      <td>Diesel</td>\n      <td>Manual</td>\n      <td>1st Owner</td>\n      <td>2021</td>\n      <td>1498</td>\n      <td>5</td>\n      <td>WR-V</td>\n      <td>5</td>\n      <td>1473</td>\n    </tr>\n  </tbody>\n</table>\n</div>"
          },
          "metadata": {}
        }
      ],
      "execution_count": 88
    },
    {
      "cell_type": "code",
      "source": "#fuel_type\nfuel_type_en = LabelEncoder()\ndataset['fuel_type_ml'] = fuel_type_en.fit_transform(dataset['fuel_type'])\ndataset.head(1)",
      "metadata": {
        "trusted": true
      },
      "outputs": [
        {
          "execution_count": 89,
          "output_type": "execute_result",
          "data": {
            "text/plain": "   Unnamed: 0                   car_name car_prices_in_rupee  kms_driven  \\\n0           0  2.0 Longitude Option BSIV           1003000.0       86226   \n2           2                      2.5 G           1640000.0       60343   \n7           7                  VX Diesel           1160000.0       14470   \n\n  fuel_type transmission  ownership  manufacture  engine  Seats company_name  \\\n0    Diesel       Manual  1st Owner         2017    1956      5      Compass   \n2    Petrol    Automatic  1st Owner         2016    2494      5        Camry   \n7    Diesel       Manual  1st Owner         2021    1498      5         WR-V   \n\n  seat  car_name_ml  fuel_type_ml  \n0   5           349             1  \n2   5           388             4  \n7   5          1473             1  ",
            "text/html": "<div>\n<style scoped>\n    .dataframe tbody tr th:only-of-type {\n        vertical-align: middle;\n    }\n\n    .dataframe tbody tr th {\n        vertical-align: top;\n    }\n\n    .dataframe thead th {\n        text-align: right;\n    }\n</style>\n<table border=\"1\" class=\"dataframe\">\n  <thead>\n    <tr style=\"text-align: right;\">\n      <th></th>\n      <th>Unnamed: 0</th>\n      <th>car_name</th>\n      <th>car_prices_in_rupee</th>\n      <th>kms_driven</th>\n      <th>fuel_type</th>\n      <th>transmission</th>\n      <th>ownership</th>\n      <th>manufacture</th>\n      <th>engine</th>\n      <th>Seats</th>\n      <th>company_name</th>\n      <th>seat</th>\n      <th>car_name_ml</th>\n      <th>fuel_type_ml</th>\n    </tr>\n  </thead>\n  <tbody>\n    <tr>\n      <th>0</th>\n      <td>0</td>\n      <td>2.0 Longitude Option BSIV</td>\n      <td>1003000.0</td>\n      <td>86226</td>\n      <td>Diesel</td>\n      <td>Manual</td>\n      <td>1st Owner</td>\n      <td>2017</td>\n      <td>1956</td>\n      <td>5</td>\n      <td>Compass</td>\n      <td>5</td>\n      <td>349</td>\n      <td>1</td>\n    </tr>\n    <tr>\n      <th>2</th>\n      <td>2</td>\n      <td>2.5 G</td>\n      <td>1640000.0</td>\n      <td>60343</td>\n      <td>Petrol</td>\n      <td>Automatic</td>\n      <td>1st Owner</td>\n      <td>2016</td>\n      <td>2494</td>\n      <td>5</td>\n      <td>Camry</td>\n      <td>5</td>\n      <td>388</td>\n      <td>4</td>\n    </tr>\n    <tr>\n      <th>7</th>\n      <td>7</td>\n      <td>VX Diesel</td>\n      <td>1160000.0</td>\n      <td>14470</td>\n      <td>Diesel</td>\n      <td>Manual</td>\n      <td>1st Owner</td>\n      <td>2021</td>\n      <td>1498</td>\n      <td>5</td>\n      <td>WR-V</td>\n      <td>5</td>\n      <td>1473</td>\n      <td>1</td>\n    </tr>\n  </tbody>\n</table>\n</div>"
          },
          "metadata": {}
        }
      ],
      "execution_count": 89
    },
    {
      "cell_type": "code",
      "source": "#transmission\ntransmission_en = LabelEncoder()\ndataset['transmission_ml'] = transmission_en.fit_transform(dataset['transmission'])\ndataset.head(1)",
      "metadata": {
        "trusted": true
      },
      "outputs": [
        {
          "execution_count": 100,
          "output_type": "execute_result",
          "data": {
            "text/plain": "   Unnamed: 0                   car_name car_prices_in_rupee  kms_driven  \\\n0           0  2.0 Longitude Option BSIV           1003000.0       86226   \n\n  fuel_type transmission  ownership  manufacture  engine  Seats company_name  \\\n0    Diesel       Manual  1st Owner         2017    1956      5      Compass   \n\n  seat  car_name_ml  fuel_type_ml  transmission_ml  \n0   5           349             1                1  ",
            "text/html": "<div>\n<style scoped>\n    .dataframe tbody tr th:only-of-type {\n        vertical-align: middle;\n    }\n\n    .dataframe tbody tr th {\n        vertical-align: top;\n    }\n\n    .dataframe thead th {\n        text-align: right;\n    }\n</style>\n<table border=\"1\" class=\"dataframe\">\n  <thead>\n    <tr style=\"text-align: right;\">\n      <th></th>\n      <th>Unnamed: 0</th>\n      <th>car_name</th>\n      <th>car_prices_in_rupee</th>\n      <th>kms_driven</th>\n      <th>fuel_type</th>\n      <th>transmission</th>\n      <th>ownership</th>\n      <th>manufacture</th>\n      <th>engine</th>\n      <th>Seats</th>\n      <th>company_name</th>\n      <th>seat</th>\n      <th>car_name_ml</th>\n      <th>fuel_type_ml</th>\n      <th>transmission_ml</th>\n    </tr>\n  </thead>\n  <tbody>\n    <tr>\n      <th>0</th>\n      <td>0</td>\n      <td>2.0 Longitude Option BSIV</td>\n      <td>1003000.0</td>\n      <td>86226</td>\n      <td>Diesel</td>\n      <td>Manual</td>\n      <td>1st Owner</td>\n      <td>2017</td>\n      <td>1956</td>\n      <td>5</td>\n      <td>Compass</td>\n      <td>5</td>\n      <td>349</td>\n      <td>1</td>\n      <td>1</td>\n    </tr>\n  </tbody>\n</table>\n</div>"
          },
          "metadata": {}
        }
      ],
      "execution_count": 100
    },
    {
      "cell_type": "code",
      "source": "#ownership\t\nownership_en = LabelEncoder()\ndataset['ownership_ml'] = ownership_en.fit_transform(dataset['ownership'])\ndataset.head(1)",
      "metadata": {
        "trusted": true
      },
      "outputs": [
        {
          "execution_count": 101,
          "output_type": "execute_result",
          "data": {
            "text/plain": "   Unnamed: 0                   car_name car_prices_in_rupee  kms_driven  \\\n0           0  2.0 Longitude Option BSIV           1003000.0       86226   \n\n  fuel_type transmission  ownership  manufacture  engine  Seats company_name  \\\n0    Diesel       Manual  1st Owner         2017    1956      5      Compass   \n\n  seat  car_name_ml  fuel_type_ml  transmission_ml  ownership_ml  \n0   5           349             1                1             1  ",
            "text/html": "<div>\n<style scoped>\n    .dataframe tbody tr th:only-of-type {\n        vertical-align: middle;\n    }\n\n    .dataframe tbody tr th {\n        vertical-align: top;\n    }\n\n    .dataframe thead th {\n        text-align: right;\n    }\n</style>\n<table border=\"1\" class=\"dataframe\">\n  <thead>\n    <tr style=\"text-align: right;\">\n      <th></th>\n      <th>Unnamed: 0</th>\n      <th>car_name</th>\n      <th>car_prices_in_rupee</th>\n      <th>kms_driven</th>\n      <th>fuel_type</th>\n      <th>transmission</th>\n      <th>ownership</th>\n      <th>manufacture</th>\n      <th>engine</th>\n      <th>Seats</th>\n      <th>company_name</th>\n      <th>seat</th>\n      <th>car_name_ml</th>\n      <th>fuel_type_ml</th>\n      <th>transmission_ml</th>\n      <th>ownership_ml</th>\n    </tr>\n  </thead>\n  <tbody>\n    <tr>\n      <th>0</th>\n      <td>0</td>\n      <td>2.0 Longitude Option BSIV</td>\n      <td>1003000.0</td>\n      <td>86226</td>\n      <td>Diesel</td>\n      <td>Manual</td>\n      <td>1st Owner</td>\n      <td>2017</td>\n      <td>1956</td>\n      <td>5</td>\n      <td>Compass</td>\n      <td>5</td>\n      <td>349</td>\n      <td>1</td>\n      <td>1</td>\n      <td>1</td>\n    </tr>\n  </tbody>\n</table>\n</div>"
          },
          "metadata": {}
        }
      ],
      "execution_count": 101
    },
    {
      "cell_type": "code",
      "source": "#dataset.drop(columns=['ownership_ml'], inplace=True) -> to drop a column",
      "metadata": {
        "trusted": true
      },
      "outputs": [],
      "execution_count": 99
    },
    {
      "cell_type": "code",
      "source": "#manufacture\n#we have only year in it, but if we have complete data and need to split it, we will write\n#dataset['manufacture'] = dataset['manufacture'].dt.year",
      "metadata": {
        "trusted": true
      },
      "outputs": [],
      "execution_count": null
    },
    {
      "cell_type": "code",
      "source": "#company_name\ncompany_name_en = LabelEncoder()\ndataset['company_name_ml'] = company_name_en.fit_transform(dataset['company_name'])\ndataset.head(1)",
      "metadata": {
        "trusted": true
      },
      "outputs": [
        {
          "execution_count": 102,
          "output_type": "execute_result",
          "data": {
            "text/plain": "   Unnamed: 0                   car_name car_prices_in_rupee  kms_driven  \\\n0           0  2.0 Longitude Option BSIV           1003000.0       86226   \n\n  fuel_type transmission  ownership  manufacture  engine  Seats company_name  \\\n0    Diesel       Manual  1st Owner         2017    1956      5      Compass   \n\n  seat  car_name_ml  fuel_type_ml  transmission_ml  ownership_ml  \\\n0   5           349             1                1             1   \n\n   company_name_ml  \n0               47  ",
            "text/html": "<div>\n<style scoped>\n    .dataframe tbody tr th:only-of-type {\n        vertical-align: middle;\n    }\n\n    .dataframe tbody tr th {\n        vertical-align: top;\n    }\n\n    .dataframe thead th {\n        text-align: right;\n    }\n</style>\n<table border=\"1\" class=\"dataframe\">\n  <thead>\n    <tr style=\"text-align: right;\">\n      <th></th>\n      <th>Unnamed: 0</th>\n      <th>car_name</th>\n      <th>car_prices_in_rupee</th>\n      <th>kms_driven</th>\n      <th>fuel_type</th>\n      <th>transmission</th>\n      <th>ownership</th>\n      <th>manufacture</th>\n      <th>engine</th>\n      <th>Seats</th>\n      <th>company_name</th>\n      <th>seat</th>\n      <th>car_name_ml</th>\n      <th>fuel_type_ml</th>\n      <th>transmission_ml</th>\n      <th>ownership_ml</th>\n      <th>company_name_ml</th>\n    </tr>\n  </thead>\n  <tbody>\n    <tr>\n      <th>0</th>\n      <td>0</td>\n      <td>2.0 Longitude Option BSIV</td>\n      <td>1003000.0</td>\n      <td>86226</td>\n      <td>Diesel</td>\n      <td>Manual</td>\n      <td>1st Owner</td>\n      <td>2017</td>\n      <td>1956</td>\n      <td>5</td>\n      <td>Compass</td>\n      <td>5</td>\n      <td>349</td>\n      <td>1</td>\n      <td>1</td>\n      <td>1</td>\n      <td>47</td>\n    </tr>\n  </tbody>\n</table>\n</div>"
          },
          "metadata": {}
        }
      ],
      "execution_count": 102
    },
    {
      "cell_type": "code",
      "source": "",
      "metadata": {
        "trusted": true
      },
      "outputs": [],
      "execution_count": null
    },
    {
      "cell_type": "code",
      "source": "#import seaborn as sns\n\n#to check outliers\n\n#plt.figure(figsize=(3,4))\n#sns.boxplot(x=\"engine\", data=\"dataset\")\n#plt.show()",
      "metadata": {
        "trusted": true
      },
      "outputs": [],
      "execution_count": 110
    },
    {
      "cell_type": "code",
      "source": "#import pandas as pd\n\n#to remove outliers\n#q1 = np.quantile(dataset['engine'],0.25)\n#q3 = np.quantile(dataset['engine'],0.75)\n\n#iqr = q3-q1\n\n#to find out min and max range\n\n#min = q1 - (1.5*iqr)\n#max = q3 + (1.5*iqr)\n\n#dataset[dataset['engine']<=max_r].shape -> outliers are removed -> to write .shape or not, upto us",
      "metadata": {
        "trusted": true
      },
      "outputs": [],
      "execution_count": null
    },
    {
      "cell_type": "code",
      "source": "# now doing scaling \n# ss = StandardScaler()\n# new_data = pd.DataFrame(ss.fit_transform(dataset),columns=dataset.columns)",
      "metadata": {
        "trusted": true
      },
      "outputs": [],
      "execution_count": null
    },
    {
      "cell_type": "code",
      "source": "",
      "metadata": {
        "trusted": true
      },
      "outputs": [],
      "execution_count": null
    }
  ]
}